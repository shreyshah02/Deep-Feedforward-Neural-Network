{
 "cells": [
  {
   "cell_type": "markdown",
   "metadata": {},
   "source": [
    "Importing the required libraries"
   ]
  },
  {
   "cell_type": "code",
   "execution_count": 1,
   "metadata": {},
   "outputs": [
    {
     "name": "stderr",
     "output_type": "stream",
     "text": [
      "Using TensorFlow backend.\n"
     ]
    }
   ],
   "source": [
    "import numpy as np\n",
    "import matplotlib.pyplot as plt\n",
    "from keras.datasets import mnist"
   ]
  },
  {
   "cell_type": "markdown",
   "metadata": {},
   "source": [
    "## Preprocessing\n",
    "Loading the MNIST dataset and performing the required preprocessing on the data. Reshaping the training data and testing data such that all the images are flattened into column and each column of the dataset X represents one training example. Additionally, normalizing the training and testing data by dividing each pixel value in the dataset by 255.  Reshaping the training and testing label to a row vector. The last digit of my student ID = 0, thus modifying the labels of the training and testing data to contain value 1 for an image containing the number 0 and a value of 0 otherwise. Additionally, printing the shapes of the training and testing data and labels to confirm correct preprocessing."
   ]
  },
  {
   "cell_type": "code",
   "execution_count": 2,
   "metadata": {},
   "outputs": [
    {
     "name": "stdout",
     "output_type": "stream",
     "text": [
      "The training set contains:  60000\n",
      "test set:  10000\n",
      "Shape of the training data (60000, 28, 28)\n",
      "shape of training label (60000,)\n",
      "(784, 60000)\n",
      "(784, 10000)\n",
      "(1, 60000)\n",
      "(1, 10000)\n"
     ]
    }
   ],
   "source": [
    "(x_train, y_train), (x_test, y_test) = mnist.load_data()\n",
    "print('The training set contains: ', len(x_train))\n",
    "print('test set: ', len(x_test))\n",
    "print('Shape of the training data',x_train.shape)\n",
    "print('shape of training label',y_train.shape)\n",
    "# Performing the preprocessing steps on the data set\n",
    "# Reshaping the training and test set such that each column represents an image\n",
    "# Reshaping the training and test labels into row vectors\n",
    "x_train = np.reshape(x_train, (60000, -1))\n",
    "x_train = x_train.T\n",
    "y_train = np.reshape(y_train, (1, -1))\n",
    "x_test = np.reshape(x_test, (10000, -1))\n",
    "x_test = x_test.T\n",
    "y_test = np.reshape(y_test, (1, -1))\n",
    "# Normalizing the data in training and test sets\n",
    "x_train = x_train/255\n",
    "x_test = x_test/255\n",
    "# Updating the labels in the training and test set\n",
    "# Last digit of my student id = 0\n",
    "# Thus, the label of an image of number 0 should be 1 and 0 otherwise\n",
    "# This is achieved by creating masks for the training and testing labels such that the masks have True for indices\n",
    "# which correspond to an image of number 0\n",
    "id_mask_train = y_train == 0\n",
    "id_mask_test = y_test == 0\n",
    "y_train[id_mask_train] = 1\n",
    "y_train[np.logical_not(id_mask_train)] = 0\n",
    "y_test[id_mask_test] = 1\n",
    "y_test[np.logical_not(id_mask_test)] = 0\n",
    "# Checking the shape of the training and test sets\n",
    "print(x_train.shape)\n",
    "print(x_test.shape)\n",
    "print(y_train.shape)\n",
    "print(y_test.shape)"
   ]
  },
  {
   "cell_type": "markdown",
   "metadata": {},
   "source": [
    "## Deep Neural Network Class\n",
    "Class for creating and training the neural network with 1 hidden layer to solve the Binary Classification problem on the MNIST dataset. The constructor method (_init_) loads the training and the test dataset, splits the training set into training (48000) + validation set(12000). The validation set is later used to tune the hyperparameters like the learning rate, the number of neurons in the hidden layer, the activation function for the hidden layer etc. \n",
    "\n",
    "### Activation Functions and their Gradients\n",
    "Functions for implementing the sigmoid activation, tanh activation and ReLU activation functions. The function act_gradient computes and returns the gradeint of the activation function (provided as parameter). \n",
    "\n",
    "### Forward Propagation\n",
    "The method forwardProp() performs the forward propagation through one layer of the neural network. The parameters provided to the method are : the weights and the biases associated with the layer, input to the layer and the activation function of the layer. It returns the output form the layer. \n",
    "\n",
    "### Backward Propagation\n",
    "The method BackProp() performs the backward propagation through all the layers of the model to determine the gradients with respect to the weights and the biases of each layer\n",
    "\n",
    "### Initialization\n",
    "The method initialization initializes the weights and biases for the all layers of the model, small random values of the required dimensions using the numpy method random.random(). The random values (between 0 and 1) are multiplied by 0.01 to make them small. The number of neurons and the activation function for the hidden layer of the network is also loaded in the constructor method.\n",
    "\n",
    "### Train Model\n",
    "The method train_model() performs the gradeint descent algorithm for the training dataset, performs the forward propagation with the learned parameters to generate the predicted values for training set and computes the cost and accuracy achieved by the trained model on the training data. If multiple learning rates are provided to the object, then train_model() performs training with each learning rate, computes the cost of the learned model on the validation set and selects the value of alpha which performs best on the validation set for the final training of the model. The accuracy is computed by rounding the predicted values. These rounded prediction values are compared with ground truth values to comput the accuracy on the training data.\n",
    "\n",
    "### Test Model\n",
    "The method test_model assess the trained model on the test data set. It performs the forward propagation with the learned parameters to generate the predicted values for the test set and computes the cost and accuracy achieved by the trained model on the test dataset. The accuracy is computed by rounding the predicted values. These rounded prediction values are compared with ground truth values to comput the accuracy on the test data.\n",
    "\n",
    "### Validate Model\n",
    "The method Validate_model asses the trained model on the validation set to tune the hyper parameters of the model.\n"
   ]
  },
  {
   "cell_type": "code",
   "execution_count": 13,
   "metadata": {},
   "outputs": [],
   "source": [
    "class DeepNeuralNetwork:\n",
    "    def __init__(self, x_train, y_train, x_test, y_test, alpha, layers = 2, neurons = [8, 1], activations = ['ReLU', 'sigmoid'], val = False):\n",
    "        if val:\n",
    "            split = int(0.8*x_train.shape[1])\n",
    "            self.x_val = x_train[:, split:]\n",
    "            self.y_val = y_train[:, split:]\n",
    "            \n",
    "        else:\n",
    "            split = x_train.shape[1]\n",
    "            self.x_val = None\n",
    "            self.y_val = None\n",
    "        self.val = val\n",
    "        self.x_train = x_train[:, :split]\n",
    "        self.y_train = y_train[:, :split]\n",
    "        self.x_test = x_test\n",
    "        self.y_test = y_test\n",
    "        self.alpha = alpha\n",
    "        self.neurons = neurons\n",
    "        self.W = None\n",
    "        self.b = None\n",
    "#         self.Z = None\n",
    "#         self.A = None\n",
    "        self.activations = activations\n",
    "        self.layers = layers\n",
    "        self.m = self.x_train.shape[1]\n",
    "    \n",
    "    def act_sigmoid(self, z):\n",
    "        A = 1/(1+np.exp(-z))\n",
    "        return A\n",
    "\n",
    "\n",
    "    def act_tanh(self, z):\n",
    "        A = np.tanh(z)\n",
    "        return A\n",
    "\n",
    "\n",
    "    def act_relu(self, z):\n",
    "        A = np.maximum(0, z)\n",
    "        return A\n",
    "    \n",
    "    \n",
    "    def Activation_function(self, z, act):\n",
    "        if act == 'ReLU':\n",
    "            A = self.act_relu(z)\n",
    "        elif act == 'tanh':\n",
    "            A = self.act_tanh(z)\n",
    "        elif act == 'sigmoid':\n",
    "            A = self.act_sigmoid(z)\n",
    "        return A\n",
    "\n",
    "    \n",
    "    def act_gradient(self, A, act = 'ReLU'):\n",
    "        dg = np.zeros_like(A)\n",
    "        if act == 'ReLU':\n",
    "            dg[A>0] = 1\n",
    "        elif act == 'sigmoid':\n",
    "            dg = A*(1 - A)\n",
    "        elif act == 'tanh':\n",
    "            dg = 1 - np.square(A)\n",
    "\n",
    "        return dg\n",
    "    \n",
    "    \n",
    "    def initialization(self):\n",
    "        W = []\n",
    "        b = []\n",
    "        n = self.x_train.shape[0]\n",
    "        for i in range(self.layers):\n",
    "#             w = np.random.randn(self.neurons[i], n) * 0.01\n",
    "#             bias = np.zeros((self.neurons[i], 1))\n",
    "            w = np.random.random((self.neurons[i], n))*0.01\n",
    "            bias = np.random.random((self.neurons[i], 1)) * 0.01\n",
    "            W.append(w)\n",
    "            b.append(bias)\n",
    "#             print('bias[{}] = '.format(i), bias)\n",
    "            n = self.neurons[i]\n",
    "        self.W = W\n",
    "        self.b = b\n",
    "    \n",
    "    \n",
    "    def ForwardProp(self, x, y):\n",
    "        Z = []\n",
    "        A = []\n",
    "        a = x\n",
    "        # activation of the 0th layer is the training example\n",
    "        # z of 1st layer is at Z[0]\n",
    "        # activation of 1st layer is at A[1]\n",
    "        A.append(a)\n",
    "        for i in range(self.layers):\n",
    "            z_l = np.dot(self.W[i], a) + self.b[i]\n",
    "            a_l = self.Activation_function(z_l, self.activations[i])\n",
    "            Z.append(z_l)\n",
    "            A.append(a_l)\n",
    "            a = a_l\n",
    "#         self.Z = Z\n",
    "#         self.A = A\n",
    "        return Z, A\n",
    "    \n",
    "    \n",
    "    def BackProp(self, Z, A):\n",
    "#         dA = - self.y_train/A[-1] + (1 - self.y_train)/(1 - A[-1])\n",
    "        dZ = Z.copy()\n",
    "        dW = self.W.copy()\n",
    "        db = self.b.copy()\n",
    "        a = A[-1]\n",
    "        dZ[-1] = A[-1] - self.y_train\n",
    "        for i in range(len(dZ) - 1, -1, -1):\n",
    "#             dZ[i] = dA*self.act_gradient(a, self.activations[i])\n",
    "            dW[i] = dZ[i].dot(A[i].T) / self.m\n",
    "            db[i] = np.sum(dZ[i], axis = 1) / self.m\n",
    "            db[i] = np.reshape(db[i], (-1, 1))\n",
    "#             print('Shape of db[{}] = '.format(i),db[i].shape)\n",
    "            dA = np.dot(self.W[i].T, dZ[i])\n",
    "            a = A[i]\n",
    "            if i!= 0:\n",
    "                dZ[i - 1] = dA*self.act_gradient(a, self.activations[i - 1])\n",
    "#             print('Value of i in backprop: (should be (2, 1, 0))', i)\n",
    "        return dW, db\n",
    "\n",
    "    def train_model(self, epochs):\n",
    "        self.initialization()\n",
    "        for epoch in range(epochs):\n",
    "            Z, A = self.ForwardProp(self.x_train, self.y_train)\n",
    "            cost = self.ComputeCost(A[-1], self.y_train)\n",
    "            plt.plot(epoch, cost, 'bo')\n",
    "            plt.title('Learning Curve')\n",
    "            plt.xlabel('iterations')\n",
    "            plt.ylabel('Cost')\n",
    "            dW, db = self.BackProp(Z, A)\n",
    "            for i in range(self.layers):\n",
    "#                 print('Update Iteration {}'.format(i))\n",
    "                self.W[i] -= self.alpha*dW[i]\n",
    "                self.b[i] -= self.alpha*db[i]\n",
    "        Z_f, A_f = self.ForwardProp(self.x_train, self.y_train)\n",
    "        cost_f = self.ComputeCost(A_f[-1], self.y_train)\n",
    "        print('Cost after Training = ', cost_f)\n",
    "        A_f[-1] = np.around(A_f[-1])\n",
    "        accuracy = np.mean(A_f[-1] == self.y_train)\n",
    "        print('Accuracy on Training Data = ', accuracy)\n",
    "        return self.W[i], self.b[i]\n",
    "    \n",
    "    def test_model(self, x, y):\n",
    "        Z, A = self.ForwardProp(x, y)\n",
    "        cost = self.ComputeCost(A[-1], y)\n",
    "        A_t = np.around(A[-1])\n",
    "        accuracy = np.mean(A_t == y)\n",
    "        print('The cost on test set = {}'.format(cost))\n",
    "        print('The accuracy on test set = {}'.format(accuracy))\n",
    "        return A[-1], A_t\n",
    "    \n",
    "    def ComputeCost(self, A, y):\n",
    "        cost = - np.sum(y*np.log(A) + (1-y)*np.log(1 - A)) / y.shape[1]\n",
    "        return cost\n",
    "    \n",
    "    def Validate_model(self):\n",
    "        if not self.val:\n",
    "            return\n",
    "        Z, A = self.ForwardProp(self.x_val, self.y_val)\n",
    "        cost = self.ComputeCost(A[-1], self.y_val)\n",
    "        A_v = np.around(A[-1])\n",
    "        accuracy = np.mean(A_v == self.y_val)\n",
    "        print('The cost on Validation set for alpha:{} = {}'.format(self.alpha, cost))\n",
    "        print('The accuracy on Validation set = {}'.format(accuracy))\n",
    "        return cost\n",
    "        "
   ]
  },
  {
   "cell_type": "markdown",
   "metadata": {},
   "source": [
    "## Implementation\n",
    "Creating the object of the class Neural Network. \n",
    "After evaluating the model on the vallidation set with different values of the hyperparameters, I found the following values to give the best performance:\n",
    "learning rate - 0.5. After comparing with values including 1.1, 1, 0.9, 0.5, 0.2, 0.1. \n",
    "Activation function for hidden layers - ReLU. \n",
    "2 Hidden layers, the first hidden layer with 32 neurons and the 2nd hidden layer with 8 neurons, followed by the output layer.\n",
    "This number provided the best performance on the validation set\n",
    "\n",
    "The training cost achieved = 0.00901536 (this can vary a little with each execution)\n",
    "The training accuracy achieved = 99.83958% (only predicted values greater than 0.9 are rounded to 1 and less than 0.1 are rounded to 0)\n",
    "The test cost achieved = 0.01314037\n",
    "The test accuracy achieved = 99.71%\n",
    "\n",
    "Plotting the learning curve for the model. Please scroll down to find the learning curve."
   ]
  },
  {
   "cell_type": "code",
   "execution_count": 14,
   "metadata": {
    "scrolled": true
   },
   "outputs": [
    {
     "name": "stdout",
     "output_type": "stream",
     "text": [
      "For alpha = 0.5\n",
      "Cost after Training =  0.00915264664494226\n",
      "Accuracy on Training Data =  0.9983541666666667\n",
      "The cost on Validation set for alpha:0.5 = 0.013396084223127654\n",
      "The accuracy on Validation set = 0.9970833333333333\n",
      "Best validation cost = 0.013396084223127654, achieved for alpha = 0.5\n"
     ]
    },
    {
     "data": {
      "image/png": "[encoded data removed]",
      "text/plain": [
       "<Figure size 432x288 with 1 Axes>"
      ]
     },
     "metadata": {
      "needs_background": "light"
     },
     "output_type": "display_data"
    }
   ],
   "source": [
    "alphas = [0.5]\n",
    "# alphas = [1.1, 1, 0.9, 0.6, 0.5, 0.2, 0.1]\n",
    "best_cost = 100\n",
    "best_model = None\n",
    "a = None\n",
    "for alpha in alphas:\n",
    "# alpha = 1.1\n",
    "    layers = 3\n",
    "    neurons = [32, 8, 1]\n",
    "    activations = ['ReLU', 'ReLU', 'sigmoid']\n",
    "    DNN = DeepNeuralNetwork(x_train, y_train, x_test, y_test, alpha = alpha, layers = layers, neurons = neurons, activations = activations, val = True)\n",
    "    print('For alpha = {}'.format(alpha))\n",
    "    W, b = DNN.train_model(1000)\n",
    "    cost_val = DNN.Validate_model()\n",
    "    if cost_val < best_cost:\n",
    "        best_cost = cost_val\n",
    "        a = alpha\n",
    "        best_model = DNN\n",
    "\n",
    "print('Best validation cost = {}, achieved for alpha = {}'.format(best_cost, a))"
   ]
  },
  {
   "cell_type": "code",
   "execution_count": 15,
   "metadata": {},
   "outputs": [
    {
     "name": "stdout",
     "output_type": "stream",
     "text": [
      "The cost on test set = 0.013277924473678218\n",
      "The accuracy on test set = 0.9969\n",
      "Test accuracy of Neural Network: 99 % (percentage of correctly labelled datapoints)\n"
     ]
    }
   ],
   "source": [
    "A, A_t = DNN.test_model(x_test, y_test)\n",
    "print ('Test accuracy of Neural Network: %d ' % float((np.dot(y_test,A.T) + np.dot(1-y_test,1-A.T))/float(y_test.size)*100) +\n",
    "       '% ' + \"(percentage of correctly labelled datapoints)\")"
   ]
  },
  {
   "cell_type": "markdown",
   "metadata": {},
   "source": [
    "### Determining Incorreclty Classified Images"
   ]
  },
  {
   "cell_type": "code",
   "execution_count": 69,
   "metadata": {},
   "outputs": [
    {
     "name": "stdout",
     "output_type": "stream",
     "text": [
      "(array([0, 0, 0, 0, 0, 0, 0, 0, 0, 0, 0, 0, 0, 0, 0, 0, 0, 0, 0, 0, 0, 0,\n",
      "       0, 0, 0, 0, 0, 0, 0], dtype=int64), array([ 324,  445,  717, 1352, 1678, 1748, 2073, 2098, 2648, 2802, 2921,\n",
      "       3422, 3558, 3764, 3818, 4065, 4880, 5165, 6400, 6426, 6532, 6597,\n",
      "       6651, 7216, 8325, 9634, 9719, 9770, 9777], dtype=int64))\n",
      "[ 324  445  717 1352 1678 1748 2073 2098 2648 2802 2921 3422 3558 3764\n",
      " 3818 4065 4880 5165 6400 6426 6532 6597 6651 7216 8325 9634 9719 9770\n",
      " 9777]\n"
     ]
    }
   ],
   "source": [
    "false_class = np.where(A_t != y_test)\n",
    "print(false_class)"
   ]
  },
  {
   "cell_type": "markdown",
   "metadata": {},
   "source": [
    "Printing the ground truth values and the values predicted by the model for the first 10 incorrectly classified images. Additionally, displaying the images. Please scroll down to find the first 10 incorrecly classified images."
   ]
  },
  {
   "cell_type": "code",
   "execution_count": 71,
   "metadata": {},
   "outputs": [
    {
     "name": "stdout",
     "output_type": "stream",
     "text": [
      "Ground Truth for image 324:  1\n",
      "Predicted value by the model for image 324:  0.45248046927725205\n"
     ]
    },
    {
     "data": {
      "image/png": "[encoded data removed]",
      "text/plain": [
       "<Figure size 432x288 with 1 Axes>"
      ]
     },
     "metadata": {
      "needs_background": "light"
     },
     "output_type": "display_data"
    },
    {
     "name": "stdout",
     "output_type": "stream",
     "text": [
      "Ground Truth for image 445:  0\n",
      "Predicted value by the model for image 445:  0.8447544161148706\n"
     ]
    },
    {
     "data": {
      "image/png": "[encoded data removed]",
      "text/plain": [
       "<Figure size 432x288 with 1 Axes>"
      ]
     },
     "metadata": {
      "needs_background": "light"
     },
     "output_type": "display_data"
    },
    {
     "name": "stdout",
     "output_type": "stream",
     "text": [
      "Ground Truth for image 717:  1\n",
      "Predicted value by the model for image 717:  0.2921482975161477\n"
     ]
    },
    {
     "data": {
      "image/png": "[encoded data removed]",
      "text/plain": [
       "<Figure size 432x288 with 1 Axes>"
      ]
     },
     "metadata": {
      "needs_background": "light"
     },
     "output_type": "display_data"
    },
    {
     "name": "stdout",
     "output_type": "stream",
     "text": [
      "Ground Truth for image 1352:  0\n",
      "Predicted value by the model for image 1352:  0.712398185022214\n"
     ]
    },
    {
     "data": {
      "image/png": "[encoded data removed]",
      "text/plain": [
       "<Figure size 432x288 with 1 Axes>"
      ]
     },
     "metadata": {
      "needs_background": "light"
     },
     "output_type": "display_data"
    },
    {
     "name": "stdout",
     "output_type": "stream",
     "text": [
      "Ground Truth for image 1678:  0\n",
      "Predicted value by the model for image 1678:  0.7051379661281688\n"
     ]
    },
    {
     "data": {
      "image/png": "[encoded data removed]",
      "text/plain": [
       "<Figure size 432x288 with 1 Axes>"
      ]
     },
     "metadata": {
      "needs_background": "light"
     },
     "output_type": "display_data"
    },
    {
     "name": "stdout",
     "output_type": "stream",
     "text": [
      "Ground Truth for image 1748:  1\n",
      "Predicted value by the model for image 1748:  0.12780061781972357\n"
     ]
    },
    {
     "data": {
      "image/png": "[encoded data removed]",
      "text/plain": [
       "<Figure size 432x288 with 1 Axes>"
      ]
     },
     "metadata": {
      "needs_background": "light"
     },
     "output_type": "display_data"
    },
    {
     "name": "stdout",
     "output_type": "stream",
     "text": [
      "Ground Truth for image 2073:  0\n",
      "Predicted value by the model for image 2073:  0.5226359520417728\n"
     ]
    },
    {
     "data": {
      "image/png": "[encoded data removed]",
      "text/plain": [
       "<Figure size 432x288 with 1 Axes>"
      ]
     },
     "metadata": {
      "needs_background": "light"
     },
     "output_type": "display_data"
    },
    {
     "name": "stdout",
     "output_type": "stream",
     "text": [
      "Ground Truth for image 2098:  0\n",
      "Predicted value by the model for image 2098:  0.9144409941176134\n"
     ]
    },
    {
     "data": {
      "image/png": "[encoded data removed]",
      "text/plain": [
       "<Figure size 432x288 with 1 Axes>"
      ]
     },
     "metadata": {
      "needs_background": "light"
     },
     "output_type": "display_data"
    },
    {
     "name": "stdout",
     "output_type": "stream",
     "text": [
      "Ground Truth for image 2648:  0\n",
      "Predicted value by the model for image 2648:  0.8785640267213042\n"
     ]
    },
    {
     "data": {
      "image/png": "[encoded data removed]",
      "text/plain": [
       "<Figure size 432x288 with 1 Axes>"
      ]
     },
     "metadata": {
      "needs_background": "light"
     },
     "output_type": "display_data"
    },
    {
     "name": "stdout",
     "output_type": "stream",
     "text": [
      "Ground Truth for image 2802:  0\n",
      "Predicted value by the model for image 2802:  0.8342792816684694\n"
     ]
    },
    {
     "data": {
      "image/png": "[encoded data removed]",
      "text/plain": [
       "<Figure size 432x288 with 1 Axes>"
      ]
     },
     "metadata": {
      "needs_background": "light"
     },
     "output_type": "display_data"
    }
   ],
   "source": [
    "for i in false_class[1][:10]:\n",
    "    print('Ground Truth for image {}: '.format(i),y_test[0, i])\n",
    "    print('Predicted value by the model for image {}: '.format(i),A[0, i])\n",
    "\n",
    "    plt.imshow(np.reshape(x_test[:, i], (28,28)), 'gray')\n",
    "    plt.show()"
   ]
  },
  {
   "cell_type": "code",
   "execution_count": null,
   "metadata": {},
   "outputs": [],
   "source": []
  }
 ],
 "metadata": {
  "kernelspec": {
   "display_name": "cv",
   "language": "python",
   "name": "cv"
  },
  "language_info": {
   "codemirror_mode": {
    "name": "ipython",
    "version": 3
   },
   "file_extension": ".py",
   "mimetype": "text/x-python",
   "name": "python",
   "nbconvert_exporter": "python",
   "pygments_lexer": "ipython3",
   "version": "3.6.8"
  }
 },
 "nbformat": 4,
 "nbformat_minor": 2
}
